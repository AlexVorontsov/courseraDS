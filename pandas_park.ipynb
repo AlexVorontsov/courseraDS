{
 "cells": [
  {
   "cell_type": "code",
   "execution_count": 167,
   "id": "sticky-tourist",
   "metadata": {},
   "outputs": [
    {
     "ename": "ModuleNotFoundError",
     "evalue": "No module named 'pymystem3'",
     "output_type": "error",
     "traceback": [
      "\u001b[1;31m---------------------------------------------------------------------------\u001b[0m",
      "\u001b[1;31mModuleNotFoundError\u001b[0m                       Traceback (most recent call last)",
      "\u001b[1;32m<ipython-input-167-829abcc4afc3>\u001b[0m in \u001b[0;36m<module>\u001b[1;34m\u001b[0m\n\u001b[0;32m      1\u001b[0m \u001b[1;32mimport\u001b[0m \u001b[0mpandas\u001b[0m \u001b[1;32mas\u001b[0m \u001b[0mpd\u001b[0m\u001b[1;33m\u001b[0m\u001b[1;33m\u001b[0m\u001b[0m\n\u001b[1;32m----> 2\u001b[1;33m \u001b[1;32mfrom\u001b[0m \u001b[0mpymystem3\u001b[0m \u001b[1;32mimport\u001b[0m \u001b[0mMystem\u001b[0m\u001b[1;33m\u001b[0m\u001b[1;33m\u001b[0m\u001b[0m\n\u001b[0m\u001b[0;32m      3\u001b[0m \u001b[1;32mfrom\u001b[0m \u001b[0mcollections\u001b[0m \u001b[1;32mimport\u001b[0m \u001b[0mCounter\u001b[0m\u001b[1;33m\u001b[0m\u001b[1;33m\u001b[0m\u001b[0m\n\u001b[0;32m      4\u001b[0m \u001b[0mm\u001b[0m \u001b[1;33m=\u001b[0m \u001b[0mMystem\u001b[0m\u001b[1;33m(\u001b[0m\u001b[1;33m)\u001b[0m\u001b[1;33m\u001b[0m\u001b[1;33m\u001b[0m\u001b[0m\n",
      "\u001b[1;31mModuleNotFoundError\u001b[0m: No module named 'pymystem3'"
     ]
    }
   ],
   "source": [
    "import pandas as pd\n",
    "from pymystem3 import Mystem\n",
    "from collections import Counter\n",
    "m = Mystem()\n"
   ]
  },
  {
   "cell_type": "code",
   "execution_count": 2,
   "id": "conceptual-adrian",
   "metadata": {},
   "outputs": [],
   "source": [
    "df = pd.DataFrame({'name' : ['Earth', 'Moon', 'Mars'],\n",
    "                   'mass_to_earth' : [1, 0.606, 0.107],\n",
    "                   'three' : ['a', 'a', 'b']\n",
    "\n",
    "                   })"
   ]
  },
  {
   "cell_type": "code",
   "execution_count": 3,
   "id": "mounted-asset",
   "metadata": {},
   "outputs": [
    {
     "data": {
      "text/html": [
       "<div>\n",
       "<style scoped>\n",
       "    .dataframe tbody tr th:only-of-type {\n",
       "        vertical-align: middle;\n",
       "    }\n",
       "\n",
       "    .dataframe tbody tr th {\n",
       "        vertical-align: top;\n",
       "    }\n",
       "\n",
       "    .dataframe thead th {\n",
       "        text-align: right;\n",
       "    }\n",
       "</style>\n",
       "<table border=\"1\" class=\"dataframe\">\n",
       "  <thead>\n",
       "    <tr style=\"text-align: right;\">\n",
       "      <th></th>\n",
       "      <th>name</th>\n",
       "      <th>mass_to_earth</th>\n",
       "      <th>three</th>\n",
       "    </tr>\n",
       "  </thead>\n",
       "  <tbody>\n",
       "    <tr>\n",
       "      <th>0</th>\n",
       "      <td>Earth</td>\n",
       "      <td>1.000</td>\n",
       "      <td>a</td>\n",
       "    </tr>\n",
       "    <tr>\n",
       "      <th>1</th>\n",
       "      <td>Moon</td>\n",
       "      <td>0.606</td>\n",
       "      <td>a</td>\n",
       "    </tr>\n",
       "    <tr>\n",
       "      <th>2</th>\n",
       "      <td>Mars</td>\n",
       "      <td>0.107</td>\n",
       "      <td>b</td>\n",
       "    </tr>\n",
       "  </tbody>\n",
       "</table>\n",
       "</div>"
      ],
      "text/plain": [
       "    name  mass_to_earth three\n",
       "0  Earth          1.000     a\n",
       "1   Moon          0.606     a\n",
       "2   Mars          0.107     b"
      ]
     },
     "execution_count": 3,
     "metadata": {},
     "output_type": "execute_result"
    }
   ],
   "source": [
    "df"
   ]
  },
  {
   "cell_type": "markdown",
   "id": "honey-continent",
   "metadata": {},
   "source": [
    "Получаем новый датафрейм, в каждой строке третий столбец = а:"
   ]
  },
  {
   "cell_type": "code",
   "execution_count": 4,
   "id": "irish-requirement",
   "metadata": {},
   "outputs": [
    {
     "name": "stdout",
     "output_type": "stream",
     "text": [
      "<class 'pandas.core.frame.DataFrame'>\n"
     ]
    },
    {
     "data": {
      "text/html": [
       "<div>\n",
       "<style scoped>\n",
       "    .dataframe tbody tr th:only-of-type {\n",
       "        vertical-align: middle;\n",
       "    }\n",
       "\n",
       "    .dataframe tbody tr th {\n",
       "        vertical-align: top;\n",
       "    }\n",
       "\n",
       "    .dataframe thead th {\n",
       "        text-align: right;\n",
       "    }\n",
       "</style>\n",
       "<table border=\"1\" class=\"dataframe\">\n",
       "  <thead>\n",
       "    <tr style=\"text-align: right;\">\n",
       "      <th></th>\n",
       "      <th>name</th>\n",
       "      <th>mass_to_earth</th>\n",
       "      <th>three</th>\n",
       "    </tr>\n",
       "  </thead>\n",
       "  <tbody>\n",
       "    <tr>\n",
       "      <th>0</th>\n",
       "      <td>Earth</td>\n",
       "      <td>1.000</td>\n",
       "      <td>a</td>\n",
       "    </tr>\n",
       "    <tr>\n",
       "      <th>1</th>\n",
       "      <td>Moon</td>\n",
       "      <td>0.606</td>\n",
       "      <td>a</td>\n",
       "    </tr>\n",
       "  </tbody>\n",
       "</table>\n",
       "</div>"
      ],
      "text/plain": [
       "    name  mass_to_earth three\n",
       "0  Earth          1.000     a\n",
       "1   Moon          0.606     a"
      ]
     },
     "execution_count": 4,
     "metadata": {},
     "output_type": "execute_result"
    }
   ],
   "source": [
    "a = df[df['three'] == 'a']\n",
    "print(type(a))\n",
    "a"
   ]
  },
  {
   "cell_type": "markdown",
   "id": "anticipated-interference",
   "metadata": {},
   "source": [
    "в"
   ]
  },
  {
   "cell_type": "markdown",
   "id": "inside-elevation",
   "metadata": {},
   "source": [
    "Присваиеваем всему датафрейму значение - получаем заполнение всех столбцов в подходящих ячейках новым значением:"
   ]
  },
  {
   "cell_type": "code",
   "execution_count": 5,
   "id": "moderate-mother",
   "metadata": {},
   "outputs": [
    {
     "data": {
      "text/html": [
       "<div>\n",
       "<style scoped>\n",
       "    .dataframe tbody tr th:only-of-type {\n",
       "        vertical-align: middle;\n",
       "    }\n",
       "\n",
       "    .dataframe tbody tr th {\n",
       "        vertical-align: top;\n",
       "    }\n",
       "\n",
       "    .dataframe thead th {\n",
       "        text-align: right;\n",
       "    }\n",
       "</style>\n",
       "<table border=\"1\" class=\"dataframe\">\n",
       "  <thead>\n",
       "    <tr style=\"text-align: right;\">\n",
       "      <th></th>\n",
       "      <th>name</th>\n",
       "      <th>mass_to_earth</th>\n",
       "      <th>three</th>\n",
       "    </tr>\n",
       "  </thead>\n",
       "  <tbody>\n",
       "    <tr>\n",
       "      <th>0</th>\n",
       "      <td>c</td>\n",
       "      <td>c</td>\n",
       "      <td>c</td>\n",
       "    </tr>\n",
       "    <tr>\n",
       "      <th>1</th>\n",
       "      <td>c</td>\n",
       "      <td>c</td>\n",
       "      <td>c</td>\n",
       "    </tr>\n",
       "    <tr>\n",
       "      <th>2</th>\n",
       "      <td>Mars</td>\n",
       "      <td>0.107</td>\n",
       "      <td>b</td>\n",
       "    </tr>\n",
       "  </tbody>\n",
       "</table>\n",
       "</div>"
      ],
      "text/plain": [
       "   name mass_to_earth three\n",
       "0     c             c     c\n",
       "1     c             c     c\n",
       "2  Mars         0.107     b"
      ]
     },
     "execution_count": 5,
     "metadata": {},
     "output_type": "execute_result"
    }
   ],
   "source": [
    "df2 = df.copy()\n",
    "df2[df2['three'] == 'a'] = 'c'\n",
    "df2"
   ]
  },
  {
   "cell_type": "code",
   "execution_count": null,
   "id": "incident-northern",
   "metadata": {},
   "outputs": [],
   "source": []
  },
  {
   "cell_type": "code",
   "execution_count": null,
   "id": "banner-header",
   "metadata": {},
   "outputs": [],
   "source": []
  },
  {
   "cell_type": "code",
   "execution_count": 6,
   "id": "molecular-astrology",
   "metadata": {},
   "outputs": [
    {
     "data": {
      "text/plain": [
       "0    c\n",
       "1    c\n",
       "2    b\n",
       "Name: three, dtype: object"
      ]
     },
     "execution_count": 6,
     "metadata": {},
     "output_type": "execute_result"
    }
   ],
   "source": [
    "type(df2['three'])\n",
    "df2['three']"
   ]
  },
  {
   "cell_type": "markdown",
   "id": "boring-dakota",
   "metadata": {},
   "source": [
    "проверяет весь столбец на соответствие равенству построчно:"
   ]
  },
  {
   "cell_type": "code",
   "execution_count": 7,
   "id": "statewide-roberts",
   "metadata": {},
   "outputs": [
    {
     "data": {
      "text/plain": [
       "0     True\n",
       "1     True\n",
       "2    False\n",
       "Name: three, dtype: bool"
      ]
     },
     "execution_count": 7,
     "metadata": {},
     "output_type": "execute_result"
    }
   ],
   "source": [
    "df2['three'] == 'c'"
   ]
  },
  {
   "cell_type": "code",
   "execution_count": null,
   "id": "comparable-genome",
   "metadata": {},
   "outputs": [],
   "source": []
  },
  {
   "cell_type": "markdown",
   "id": "peripheral-liabilities",
   "metadata": {},
   "source": [
    "Фильтруем исходный датафрейм по условию и берем только третий столбец из каждой строки, получаем Series:"
   ]
  },
  {
   "cell_type": "code",
   "execution_count": 8,
   "id": "solved-soccer",
   "metadata": {},
   "outputs": [
    {
     "name": "stdout",
     "output_type": "stream",
     "text": [
      "0    a\n",
      "1    a\n",
      "Name: three, dtype: object\n"
     ]
    },
    {
     "data": {
      "text/plain": [
       "pandas.core.series.Series"
      ]
     },
     "execution_count": 8,
     "metadata": {},
     "output_type": "execute_result"
    }
   ],
   "source": [
    "b = df[df['three'] == 'a']['three']\n",
    "print(b)\n",
    "type(b)"
   ]
  },
  {
   "cell_type": "markdown",
   "id": "italic-contributor",
   "metadata": {},
   "source": [
    "Попытаемся присвоить значения только к определенным столбцам в строках, соответствующих критерию. Получаем ошибку. \n",
    "Полагаю, что изменять Series невозможно, т.к. она является частью ДатаФрейма, а это бы привело к конфликту."
   ]
  },
  {
   "cell_type": "code",
   "execution_count": 9,
   "id": "explicit-connection",
   "metadata": {},
   "outputs": [
    {
     "name": "stdout",
     "output_type": "stream",
     "text": [
      "   name mass_to_earth three\n",
      "0     c             c     c\n",
      "1     c             c     c\n",
      "2  Mars         0.107     b\n"
     ]
    },
    {
     "name": "stderr",
     "output_type": "stream",
     "text": [
      "<ipython-input-9-74ab582d86f1>:1: SettingWithCopyWarning: \n",
      "A value is trying to be set on a copy of a slice from a DataFrame.\n",
      "Try using .loc[row_indexer,col_indexer] = value instead\n",
      "\n",
      "See the caveats in the documentation: https://pandas.pydata.org/pandas-docs/stable/user_guide/indexing.html#returning-a-view-versus-a-copy\n",
      "  df2[df2['three'] == 'c']['three'] = 'd'\n"
     ]
    }
   ],
   "source": [
    "df2[df2['three'] == 'c']['three'] = 'd'\n",
    "print(df2)"
   ]
  },
  {
   "cell_type": "markdown",
   "id": "union-essay",
   "metadata": {},
   "source": [
    "так тоже можно обратиться к ячейке. столбец 'three' и строка с индексом 2:"
   ]
  },
  {
   "cell_type": "code",
   "execution_count": 11,
   "id": "negative-employment",
   "metadata": {},
   "outputs": [
    {
     "name": "stdout",
     "output_type": "stream",
     "text": [
      "b\n",
      "<class 'str'>\n"
     ]
    }
   ],
   "source": [
    "print(df2['three'][2])\n",
    "print(type(df2['three'][2]))"
   ]
  },
  {
   "cell_type": "markdown",
   "id": "worse-animal",
   "metadata": {},
   "source": [
    "пробуем изменить ячейку по такому доступу: получается"
   ]
  },
  {
   "cell_type": "code",
   "execution_count": 12,
   "id": "southeast-borough",
   "metadata": {},
   "outputs": [
    {
     "data": {
      "text/html": [
       "<div>\n",
       "<style scoped>\n",
       "    .dataframe tbody tr th:only-of-type {\n",
       "        vertical-align: middle;\n",
       "    }\n",
       "\n",
       "    .dataframe tbody tr th {\n",
       "        vertical-align: top;\n",
       "    }\n",
       "\n",
       "    .dataframe thead th {\n",
       "        text-align: right;\n",
       "    }\n",
       "</style>\n",
       "<table border=\"1\" class=\"dataframe\">\n",
       "  <thead>\n",
       "    <tr style=\"text-align: right;\">\n",
       "      <th></th>\n",
       "      <th>name</th>\n",
       "      <th>mass_to_earth</th>\n",
       "      <th>three</th>\n",
       "    </tr>\n",
       "  </thead>\n",
       "  <tbody>\n",
       "    <tr>\n",
       "      <th>0</th>\n",
       "      <td>c</td>\n",
       "      <td>c</td>\n",
       "      <td>c</td>\n",
       "    </tr>\n",
       "    <tr>\n",
       "      <th>1</th>\n",
       "      <td>c</td>\n",
       "      <td>c</td>\n",
       "      <td>c</td>\n",
       "    </tr>\n",
       "    <tr>\n",
       "      <th>2</th>\n",
       "      <td>Mars</td>\n",
       "      <td>0.107</td>\n",
       "      <td>88</td>\n",
       "    </tr>\n",
       "  </tbody>\n",
       "</table>\n",
       "</div>"
      ],
      "text/plain": [
       "   name mass_to_earth three\n",
       "0     c             c     c\n",
       "1     c             c     c\n",
       "2  Mars         0.107    88"
      ]
     },
     "execution_count": 12,
     "metadata": {},
     "output_type": "execute_result"
    }
   ],
   "source": [
    "df2['three'][2] = '88'\n",
    "df2"
   ]
  },
  {
   "cell_type": "code",
   "execution_count": 16,
   "id": "fabulous-collaboration",
   "metadata": {},
   "outputs": [
    {
     "name": "stdout",
     "output_type": "stream",
     "text": [
      "<class 'pandas.core.frame.DataFrame'>\n"
     ]
    },
    {
     "data": {
      "text/html": [
       "<div>\n",
       "<style scoped>\n",
       "    .dataframe tbody tr th:only-of-type {\n",
       "        vertical-align: middle;\n",
       "    }\n",
       "\n",
       "    .dataframe tbody tr th {\n",
       "        vertical-align: top;\n",
       "    }\n",
       "\n",
       "    .dataframe thead th {\n",
       "        text-align: right;\n",
       "    }\n",
       "</style>\n",
       "<table border=\"1\" class=\"dataframe\">\n",
       "  <thead>\n",
       "    <tr style=\"text-align: right;\">\n",
       "      <th></th>\n",
       "      <th>name</th>\n",
       "      <th>mass_to_earth</th>\n",
       "      <th>three</th>\n",
       "    </tr>\n",
       "  </thead>\n",
       "  <tbody>\n",
       "    <tr>\n",
       "      <th>0</th>\n",
       "      <td>Earth</td>\n",
       "      <td>1.000</td>\n",
       "      <td>a</td>\n",
       "    </tr>\n",
       "    <tr>\n",
       "      <th>1</th>\n",
       "      <td>Moon</td>\n",
       "      <td>0.606</td>\n",
       "      <td>a</td>\n",
       "    </tr>\n",
       "  </tbody>\n",
       "</table>\n",
       "</div>"
      ],
      "text/plain": [
       "    name  mass_to_earth three\n",
       "0  Earth          1.000     a\n",
       "1   Moon          0.606     a"
      ]
     },
     "execution_count": 16,
     "metadata": {},
     "output_type": "execute_result"
    }
   ],
   "source": [
    "print(type(df.loc[df['three'] == 'a'])) # делаем датафрейм из всех строк, в которых третий столбец = а\n",
    "df.loc[df['three'] == 'a']"
   ]
  },
  {
   "cell_type": "code",
   "execution_count": 14,
   "id": "practical-malpractice",
   "metadata": {},
   "outputs": [
    {
     "name": "stdout",
     "output_type": "stream",
     "text": [
      "0    Earth\n",
      "1     Moon\n",
      "Name: name, dtype: object\n"
     ]
    },
    {
     "data": {
      "text/plain": [
       "pandas.core.series.Series"
      ]
     },
     "execution_count": 14,
     "metadata": {},
     "output_type": "execute_result"
    }
   ],
   "source": [
    "zx = df.loc[df.loc[:,'three']=='a', 'name'] # берем только один столбец из датафрейма, где третий столбец = а, получаем Series. \n",
    "                                            # эта и следующая форма записи взаимозаменяемы\n",
    "print(zx)\n",
    "type(zx)"
   ]
  },
  {
   "cell_type": "code",
   "execution_count": 15,
   "id": "reduced-warehouse",
   "metadata": {},
   "outputs": [
    {
     "name": "stdout",
     "output_type": "stream",
     "text": [
      "0    Earth\n",
      "1     Moon\n",
      "Name: name, dtype: object\n"
     ]
    },
    {
     "data": {
      "text/plain": [
       "pandas.core.series.Series"
      ]
     },
     "execution_count": 15,
     "metadata": {},
     "output_type": "execute_result"
    }
   ],
   "source": [
    "zy = df.loc[df.loc[:,'three']=='a']['name'] # эта и предыдущая форма записи взаимозаменяемы\n",
    "print(zy)\n",
    "type(zy)"
   ]
  },
  {
   "cell_type": "code",
   "execution_count": 17,
   "id": "flush-panama",
   "metadata": {},
   "outputs": [
    {
     "name": "stdout",
     "output_type": "stream",
     "text": [
      "    name  mass_to_earth three\n",
      "0  Earth          1.000     a\n",
      "1   Moon          0.606     a\n"
     ]
    },
    {
     "data": {
      "text/plain": [
       "pandas.core.frame.DataFrame"
      ]
     },
     "execution_count": 17,
     "metadata": {},
     "output_type": "execute_result"
    }
   ],
   "source": [
    "zz = df.loc[df.loc[:,'three']=='a'] # берем все строки, соответствующие условию, получаем ДатаФрейм\n",
    "print(zz)\n",
    "type(zz)"
   ]
  },
  {
   "cell_type": "code",
   "execution_count": 18,
   "id": "strong-tattoo",
   "metadata": {},
   "outputs": [
    {
     "name": "stdout",
     "output_type": "stream",
     "text": [
      "    name  mass_to_earth three\n",
      "0  Earth          1.000     a\n",
      "1   Moon          0.606     a\n",
      "<class 'pandas.core.frame.DataFrame'>\n"
     ]
    }
   ],
   "source": [
    "zz2 = df[df['three'] == 'a'] # тоже получаем ДатаФрейм\n",
    "print(zz2)\n",
    "print(type(zz2))"
   ]
  },
  {
   "cell_type": "code",
   "execution_count": 19,
   "id": "prepared-browser",
   "metadata": {},
   "outputs": [
    {
     "name": "stdout",
     "output_type": "stream",
     "text": [
      "0    Earth\n",
      "1     Moon\n",
      "Name: name, dtype: object\n",
      "<class 'pandas.core.series.Series'>\n"
     ]
    }
   ],
   "source": [
    "zz_2 = df.loc[df.loc[:,'three']=='a']['name'] # а так получаем уже Series\n",
    "print(zz_2)\n",
    "print(type(zz_2))"
   ]
  },
  {
   "cell_type": "code",
   "execution_count": 20,
   "id": "retired-lover",
   "metadata": {},
   "outputs": [
    {
     "name": "stdout",
     "output_type": "stream",
     "text": [
      "0    Earth\n",
      "1     Moon\n",
      "Name: name, dtype: object\n",
      "<class 'pandas.core.series.Series'>\n"
     ]
    }
   ],
   "source": [
    "zz2_2 = df[df['three'] == 'a']['name'] # тут тоже Series\n",
    "print(zz2_2)\n",
    "print(type(zz2_2))"
   ]
  },
  {
   "cell_type": "code",
   "execution_count": 21,
   "id": "bright-traffic",
   "metadata": {},
   "outputs": [
    {
     "name": "stdout",
     "output_type": "stream",
     "text": [
      "0    a\n",
      "1    a\n",
      "2    b\n",
      "Name: three, dtype: object\n",
      "<class 'pandas.core.series.Series'>\n"
     ]
    }
   ],
   "source": [
    "zzz = df['three'] # получаем Series, как и в следующем синтаксисе\n",
    "print(zzz)\n",
    "print(type(zzz))"
   ]
  },
  {
   "cell_type": "code",
   "execution_count": 22,
   "id": "heavy-pollution",
   "metadata": {},
   "outputs": [
    {
     "name": "stdout",
     "output_type": "stream",
     "text": [
      "0    a\n",
      "1    a\n",
      "2    b\n",
      "Name: three, dtype: object\n",
      "<class 'pandas.core.series.Series'>\n"
     ]
    }
   ],
   "source": [
    "zzx = df.loc[:,'three'] # получаем Series, как и в предыдущем ситаксисе\n",
    "print(zzx)\n",
    "print(type(zzx))"
   ]
  },
  {
   "cell_type": "code",
   "execution_count": 35,
   "id": "dominican-elevation",
   "metadata": {},
   "outputs": [
    {
     "name": "stdout",
     "output_type": "stream",
     "text": [
      "    name  mass_to_earth three\n",
      "0  Earth          1.000     a\n",
      "1   Moon          0.606     a\n",
      "<class 'pandas.core.frame.DataFrame'>\n"
     ]
    }
   ],
   "source": [
    "qqq = df.loc[lambda df: df['three']=='a']\n",
    "qqq1 = df.loc[df['three']=='a']\n",
    "print(qqq1)\n",
    "print(type(qqq))"
   ]
  },
  {
   "cell_type": "code",
   "execution_count": 42,
   "id": "criminal-brisbane",
   "metadata": {},
   "outputs": [
    {
     "name": "stdout",
     "output_type": "stream",
     "text": [
      "<class 'numpy.ndarray'>\n",
      "['Earth' 'Moon']\n"
     ]
    }
   ],
   "source": [
    "# df.loc[df['three']=='a'].unique() так не получается, потому что обращаемся к ДатаФрейму, \n",
    "#а метод unique считает уникальные значения в столбце\n",
    "\n",
    "ua = df.loc[df['three'] == 'a', 'name'].unique()\n",
    "print(type(ua))\n",
    "print(ua)"
   ]
  },
  {
   "cell_type": "code",
   "execution_count": 44,
   "id": "raising-medicine",
   "metadata": {},
   "outputs": [
    {
     "name": "stdout",
     "output_type": "stream",
     "text": [
      "[1.    0.606 0.107]\n"
     ]
    }
   ],
   "source": [
    "ub = df['mass_to_earth'].unique()\n",
    "print(ub)"
   ]
  },
  {
   "cell_type": "code",
   "execution_count": 46,
   "id": "lonely-feeding",
   "metadata": {},
   "outputs": [
    {
     "name": "stdout",
     "output_type": "stream",
     "text": [
      "1.7129999999999999\n"
     ]
    }
   ],
   "source": [
    "uc = ub.sum()\n",
    "print(uc)"
   ]
  },
  {
   "cell_type": "code",
   "execution_count": 48,
   "id": "guided-commitment",
   "metadata": {},
   "outputs": [
    {
     "name": "stdout",
     "output_type": "stream",
     "text": [
      "3\n"
     ]
    }
   ],
   "source": [
    "#ub.count() так нельзя, метод unique() возвращает массив, нужо запрашивать его длину\n",
    "ud = len(ub)\n",
    "print(ud)"
   ]
  },
  {
   "cell_type": "markdown",
   "id": "choice-malaysia",
   "metadata": {},
   "source": [
    "не понятно. \n",
    "когда в одном столбце присутствует хотя бы одна строка, None определяется как None. Если в столбце только числа, None становится NaN"
   ]
  },
  {
   "cell_type": "code",
   "execution_count": 97,
   "id": "downtown-receipt",
   "metadata": {},
   "outputs": [
    {
     "data": {
      "text/html": [
       "<div>\n",
       "<style scoped>\n",
       "    .dataframe tbody tr th:only-of-type {\n",
       "        vertical-align: middle;\n",
       "    }\n",
       "\n",
       "    .dataframe tbody tr th {\n",
       "        vertical-align: top;\n",
       "    }\n",
       "\n",
       "    .dataframe thead th {\n",
       "        text-align: right;\n",
       "    }\n",
       "</style>\n",
       "<table border=\"1\" class=\"dataframe\">\n",
       "  <thead>\n",
       "    <tr style=\"text-align: right;\">\n",
       "      <th></th>\n",
       "      <th>name</th>\n",
       "      <th>mass_to_earth</th>\n",
       "      <th>three</th>\n",
       "    </tr>\n",
       "  </thead>\n",
       "  <tbody>\n",
       "    <tr>\n",
       "      <th>0</th>\n",
       "      <td>Earth</td>\n",
       "      <td>1.0</td>\n",
       "      <td>a</td>\n",
       "    </tr>\n",
       "    <tr>\n",
       "      <th>1</th>\n",
       "      <td>0.1</td>\n",
       "      <td>2.0</td>\n",
       "      <td>a</td>\n",
       "    </tr>\n",
       "    <tr>\n",
       "      <th>2</th>\n",
       "      <td>None</td>\n",
       "      <td>NaN</td>\n",
       "      <td>b</td>\n",
       "    </tr>\n",
       "  </tbody>\n",
       "</table>\n",
       "</div>"
      ],
      "text/plain": [
       "    name  mass_to_earth three\n",
       "0  Earth            1.0     a\n",
       "1    0.1            2.0     a\n",
       "2   None            NaN     b"
      ]
     },
     "execution_count": 97,
     "metadata": {},
     "output_type": "execute_result"
    }
   ],
   "source": [
    "dfnul = pd.DataFrame({'name' : ['Earth', 0.1, None],\n",
    "                   'mass_to_earth' : [1, 2, None],\n",
    "                   'three' : ['a', 'a', 'b']\n",
    "\n",
    "                   })\n",
    "dfnul"
   ]
  },
  {
   "cell_type": "code",
   "execution_count": 89,
   "id": "refined-empty",
   "metadata": {},
   "outputs": [
    {
     "data": {
      "text/plain": [
       "nan"
      ]
     },
     "execution_count": 89,
     "metadata": {},
     "output_type": "execute_result"
    }
   ],
   "source": [
    "dfnul['mass_to_earth'][2] / 0"
   ]
  },
  {
   "cell_type": "code",
   "execution_count": 90,
   "id": "electoral-bonus",
   "metadata": {},
   "outputs": [
    {
     "ename": "TypeError",
     "evalue": "unsupported operand type(s) for /: 'NoneType' and 'int'",
     "output_type": "error",
     "traceback": [
      "\u001b[1;31m---------------------------------------------------------------------------\u001b[0m",
      "\u001b[1;31mTypeError\u001b[0m                                 Traceback (most recent call last)",
      "\u001b[1;32m<ipython-input-90-399f68bbb42e>\u001b[0m in \u001b[0;36m<module>\u001b[1;34m\u001b[0m\n\u001b[1;32m----> 1\u001b[1;33m \u001b[0mdfnul\u001b[0m\u001b[1;33m[\u001b[0m\u001b[1;34m'name'\u001b[0m\u001b[1;33m]\u001b[0m\u001b[1;33m[\u001b[0m\u001b[1;36m2\u001b[0m\u001b[1;33m]\u001b[0m \u001b[1;33m/\u001b[0m \u001b[1;36m0\u001b[0m\u001b[1;33m\u001b[0m\u001b[1;33m\u001b[0m\u001b[0m\n\u001b[0m",
      "\u001b[1;31mTypeError\u001b[0m: unsupported operand type(s) for /: 'NoneType' and 'int'"
     ]
    }
   ],
   "source": [
    "dfnul['name'][2] / 0"
   ]
  },
  {
   "cell_type": "code",
   "execution_count": 83,
   "id": "renewable-belief",
   "metadata": {},
   "outputs": [
    {
     "data": {
      "text/html": [
       "<div>\n",
       "<style scoped>\n",
       "    .dataframe tbody tr th:only-of-type {\n",
       "        vertical-align: middle;\n",
       "    }\n",
       "\n",
       "    .dataframe tbody tr th {\n",
       "        vertical-align: top;\n",
       "    }\n",
       "\n",
       "    .dataframe thead th {\n",
       "        text-align: right;\n",
       "    }\n",
       "</style>\n",
       "<table border=\"1\" class=\"dataframe\">\n",
       "  <thead>\n",
       "    <tr style=\"text-align: right;\">\n",
       "      <th></th>\n",
       "      <th>name</th>\n",
       "      <th>mass_to_earth</th>\n",
       "      <th>three</th>\n",
       "    </tr>\n",
       "  </thead>\n",
       "  <tbody>\n",
       "    <tr>\n",
       "      <th>0</th>\n",
       "      <td>False</td>\n",
       "      <td>False</td>\n",
       "      <td>False</td>\n",
       "    </tr>\n",
       "    <tr>\n",
       "      <th>1</th>\n",
       "      <td>False</td>\n",
       "      <td>False</td>\n",
       "      <td>False</td>\n",
       "    </tr>\n",
       "    <tr>\n",
       "      <th>2</th>\n",
       "      <td>False</td>\n",
       "      <td>False</td>\n",
       "      <td>False</td>\n",
       "    </tr>\n",
       "  </tbody>\n",
       "</table>\n",
       "</div>"
      ],
      "text/plain": [
       "    name  mass_to_earth  three\n",
       "0  False          False  False\n",
       "1  False          False  False\n",
       "2  False          False  False"
      ]
     },
     "execution_count": 83,
     "metadata": {},
     "output_type": "execute_result"
    }
   ],
   "source": [
    "dfnul.isna() #isna() и isnull() - одно и то же (В документации про метод isnull написано: Alias of isna.)"
   ]
  },
  {
   "cell_type": "code",
   "execution_count": 62,
   "id": "split-lafayette",
   "metadata": {},
   "outputs": [
    {
     "data": {
      "text/plain": [
       "name             0\n",
       "mass_to_earth    1\n",
       "three            0\n",
       "dtype: int64"
      ]
     },
     "execution_count": 62,
     "metadata": {},
     "output_type": "execute_result"
    }
   ],
   "source": [
    "dfnul.isnull().sum()"
   ]
  },
  {
   "cell_type": "code",
   "execution_count": 65,
   "id": "unusual-madison",
   "metadata": {},
   "outputs": [
    {
     "data": {
      "text/plain": [
       "1"
      ]
     },
     "execution_count": 65,
     "metadata": {},
     "output_type": "execute_result"
    }
   ],
   "source": [
    "dfnul['mass_to_earth'].isnull().sum()"
   ]
  },
  {
   "cell_type": "code",
   "execution_count": 95,
   "id": "recognized-width",
   "metadata": {},
   "outputs": [
    {
     "data": {
      "text/html": [
       "<div>\n",
       "<style scoped>\n",
       "    .dataframe tbody tr th:only-of-type {\n",
       "        vertical-align: middle;\n",
       "    }\n",
       "\n",
       "    .dataframe tbody tr th {\n",
       "        vertical-align: top;\n",
       "    }\n",
       "\n",
       "    .dataframe thead th {\n",
       "        text-align: right;\n",
       "    }\n",
       "</style>\n",
       "<table border=\"1\" class=\"dataframe\">\n",
       "  <thead>\n",
       "    <tr style=\"text-align: right;\">\n",
       "      <th></th>\n",
       "      <th>name</th>\n",
       "      <th>mass_to_earth</th>\n",
       "      <th>three</th>\n",
       "    </tr>\n",
       "  </thead>\n",
       "  <tbody>\n",
       "    <tr>\n",
       "      <th>0</th>\n",
       "      <td>Earth</td>\n",
       "      <td>1.000</td>\n",
       "      <td>a</td>\n",
       "    </tr>\n",
       "    <tr>\n",
       "      <th>1</th>\n",
       "      <td>Moon</td>\n",
       "      <td>0.606</td>\n",
       "      <td>a</td>\n",
       "    </tr>\n",
       "    <tr>\n",
       "      <th>2</th>\n",
       "      <td>Mars</td>\n",
       "      <td>NaN</td>\n",
       "      <td>b</td>\n",
       "    </tr>\n",
       "  </tbody>\n",
       "</table>\n",
       "</div>"
      ],
      "text/plain": [
       "    name  mass_to_earth three\n",
       "0  Earth          1.000     a\n",
       "1   Moon          0.606     a\n",
       "2   Mars            NaN     b"
      ]
     },
     "execution_count": 95,
     "metadata": {},
     "output_type": "execute_result"
    }
   ],
   "source": [
    "import math\n",
    "dfnan = pd.DataFrame({'name' : ['Earth', 'Moon', 'Mars'],\n",
    "                   'mass_to_earth' : [1, 0.606, float('NaN')],\n",
    "                   'three' : ['a', 'a', 'b']\n",
    "\n",
    "                   })\n",
    "dfnan"
   ]
  },
  {
   "cell_type": "code",
   "execution_count": 78,
   "id": "piano-cocktail",
   "metadata": {},
   "outputs": [
    {
     "data": {
      "text/plain": [
       "name             0\n",
       "mass_to_earth    1\n",
       "three            0\n",
       "dtype: int64"
      ]
     },
     "execution_count": 78,
     "metadata": {},
     "output_type": "execute_result"
    }
   ],
   "source": [
    "dfnan.isnull().sum()"
   ]
  },
  {
   "cell_type": "code",
   "execution_count": 93,
   "id": "announced-gateway",
   "metadata": {},
   "outputs": [
    {
     "data": {
      "text/html": [
       "<div>\n",
       "<style scoped>\n",
       "    .dataframe tbody tr th:only-of-type {\n",
       "        vertical-align: middle;\n",
       "    }\n",
       "\n",
       "    .dataframe tbody tr th {\n",
       "        vertical-align: top;\n",
       "    }\n",
       "\n",
       "    .dataframe thead th {\n",
       "        text-align: right;\n",
       "    }\n",
       "</style>\n",
       "<table border=\"1\" class=\"dataframe\">\n",
       "  <thead>\n",
       "    <tr style=\"text-align: right;\">\n",
       "      <th></th>\n",
       "      <th>name</th>\n",
       "      <th>mass_to_earth</th>\n",
       "      <th>three</th>\n",
       "    </tr>\n",
       "  </thead>\n",
       "  <tbody>\n",
       "    <tr>\n",
       "      <th>0</th>\n",
       "      <td>Earth</td>\n",
       "      <td>1.0</td>\n",
       "      <td>a</td>\n",
       "    </tr>\n",
       "    <tr>\n",
       "      <th>1</th>\n",
       "      <td>0.1</td>\n",
       "      <td>2.0</td>\n",
       "      <td>a</td>\n",
       "    </tr>\n",
       "    <tr>\n",
       "      <th>2</th>\n",
       "      <td>replaced</td>\n",
       "      <td>replaced</td>\n",
       "      <td>b</td>\n",
       "    </tr>\n",
       "  </tbody>\n",
       "</table>\n",
       "</div>"
      ],
      "text/plain": [
       "       name mass_to_earth three\n",
       "0     Earth           1.0     a\n",
       "1       0.1           2.0     a\n",
       "2  replaced      replaced     b"
      ]
     },
     "execution_count": 93,
     "metadata": {},
     "output_type": "execute_result"
    }
   ],
   "source": [
    "dfnulfillna = dfnul.fillna('replaced')\n",
    "dfnulfillna"
   ]
  },
  {
   "cell_type": "code",
   "execution_count": 94,
   "id": "dental-philip",
   "metadata": {},
   "outputs": [
    {
     "data": {
      "text/html": [
       "<div>\n",
       "<style scoped>\n",
       "    .dataframe tbody tr th:only-of-type {\n",
       "        vertical-align: middle;\n",
       "    }\n",
       "\n",
       "    .dataframe tbody tr th {\n",
       "        vertical-align: top;\n",
       "    }\n",
       "\n",
       "    .dataframe thead th {\n",
       "        text-align: right;\n",
       "    }\n",
       "</style>\n",
       "<table border=\"1\" class=\"dataframe\">\n",
       "  <thead>\n",
       "    <tr style=\"text-align: right;\">\n",
       "      <th></th>\n",
       "      <th>name</th>\n",
       "      <th>mass_to_earth</th>\n",
       "      <th>three</th>\n",
       "    </tr>\n",
       "  </thead>\n",
       "  <tbody>\n",
       "    <tr>\n",
       "      <th>0</th>\n",
       "      <td>Earth</td>\n",
       "      <td>1.0</td>\n",
       "      <td>a</td>\n",
       "    </tr>\n",
       "    <tr>\n",
       "      <th>1</th>\n",
       "      <td>Moon</td>\n",
       "      <td>0.606</td>\n",
       "      <td>a</td>\n",
       "    </tr>\n",
       "    <tr>\n",
       "      <th>2</th>\n",
       "      <td>Mars</td>\n",
       "      <td>replaced</td>\n",
       "      <td>b</td>\n",
       "    </tr>\n",
       "  </tbody>\n",
       "</table>\n",
       "</div>"
      ],
      "text/plain": [
       "    name mass_to_earth three\n",
       "0  Earth           1.0     a\n",
       "1   Moon         0.606     a\n",
       "2   Mars      replaced     b"
      ]
     },
     "execution_count": 94,
     "metadata": {},
     "output_type": "execute_result"
    }
   ],
   "source": [
    "dfnanfillna = dfnan.fillna('replaced')\n",
    "dfnanfillna"
   ]
  },
  {
   "cell_type": "code",
   "execution_count": 99,
   "id": "enabling-mattress",
   "metadata": {},
   "outputs": [
    {
     "data": {
      "text/html": [
       "<div>\n",
       "<style scoped>\n",
       "    .dataframe tbody tr th:only-of-type {\n",
       "        vertical-align: middle;\n",
       "    }\n",
       "\n",
       "    .dataframe tbody tr th {\n",
       "        vertical-align: top;\n",
       "    }\n",
       "\n",
       "    .dataframe thead th {\n",
       "        text-align: right;\n",
       "    }\n",
       "</style>\n",
       "<table border=\"1\" class=\"dataframe\">\n",
       "  <thead>\n",
       "    <tr style=\"text-align: right;\">\n",
       "      <th></th>\n",
       "      <th>name</th>\n",
       "      <th>mass_to_earth</th>\n",
       "      <th>three</th>\n",
       "    </tr>\n",
       "  </thead>\n",
       "  <tbody>\n",
       "    <tr>\n",
       "      <th>0</th>\n",
       "      <td>Earth</td>\n",
       "      <td>1.0</td>\n",
       "      <td>a</td>\n",
       "    </tr>\n",
       "    <tr>\n",
       "      <th>1</th>\n",
       "      <td>0.1</td>\n",
       "      <td>2.0</td>\n",
       "      <td>a</td>\n",
       "    </tr>\n",
       "  </tbody>\n",
       "</table>\n",
       "</div>"
      ],
      "text/plain": [
       "    name  mass_to_earth three\n",
       "0  Earth            1.0     a\n",
       "1    0.1            2.0     a"
      ]
     },
     "execution_count": 99,
     "metadata": {},
     "output_type": "execute_result"
    }
   ],
   "source": [
    "dfdrop = dfnul.dropna()\n",
    "dfdrop"
   ]
  },
  {
   "cell_type": "code",
   "execution_count": 100,
   "id": "congressional-fantasy",
   "metadata": {},
   "outputs": [
    {
     "data": {
      "text/html": [
       "<div>\n",
       "<style scoped>\n",
       "    .dataframe tbody tr th:only-of-type {\n",
       "        vertical-align: middle;\n",
       "    }\n",
       "\n",
       "    .dataframe tbody tr th {\n",
       "        vertical-align: top;\n",
       "    }\n",
       "\n",
       "    .dataframe thead th {\n",
       "        text-align: right;\n",
       "    }\n",
       "</style>\n",
       "<table border=\"1\" class=\"dataframe\">\n",
       "  <thead>\n",
       "    <tr style=\"text-align: right;\">\n",
       "      <th></th>\n",
       "      <th>name</th>\n",
       "      <th>mass_to_earth</th>\n",
       "      <th>three</th>\n",
       "    </tr>\n",
       "  </thead>\n",
       "  <tbody>\n",
       "    <tr>\n",
       "      <th>0</th>\n",
       "      <td>Earth</td>\n",
       "      <td>1.000</td>\n",
       "      <td>a</td>\n",
       "    </tr>\n",
       "    <tr>\n",
       "      <th>1</th>\n",
       "      <td>Moon</td>\n",
       "      <td>0.606</td>\n",
       "      <td>a</td>\n",
       "    </tr>\n",
       "  </tbody>\n",
       "</table>\n",
       "</div>"
      ],
      "text/plain": [
       "    name  mass_to_earth three\n",
       "0  Earth          1.000     a\n",
       "1   Moon          0.606     a"
      ]
     },
     "execution_count": 100,
     "metadata": {},
     "output_type": "execute_result"
    }
   ],
   "source": [
    "dfdropnan = dfnan.dropna()\n",
    "dfdropnan"
   ]
  },
  {
   "cell_type": "code",
   "execution_count": 124,
   "id": "changing-drain",
   "metadata": {},
   "outputs": [
    {
     "data": {
      "text/plain": [
       "name\n",
       "Earth    2\n",
       "Mars     1\n",
       "Moon     1\n",
       "Name: name, dtype: int64"
      ]
     },
     "execution_count": 124,
     "metadata": {},
     "output_type": "execute_result"
    }
   ],
   "source": [
    "dfgroup = df = pd.DataFrame({'name' : ['Earth', 'Moon', 'Mars', 'Earth'],\n",
    "                   'mass_to_earth' : [1, 0.606, 0.107, 4],\n",
    "                   'three' : ['a', 'a', 'b', 'c']\n",
    "\n",
    "                   })\n",
    "dfgroup.groupby('name')['name'].count() # считаем, сколько раз строка со значением \"Earth\" в столбце name появлялась в таблице"
   ]
  },
  {
   "cell_type": "code",
   "execution_count": 116,
   "id": "blank-therapy",
   "metadata": {},
   "outputs": [
    {
     "data": {
      "text/plain": [
       "name\n",
       "Earth    5.000\n",
       "Mars     0.107\n",
       "Moon     0.606\n",
       "Name: mass_to_earth, dtype: float64"
      ]
     },
     "execution_count": 116,
     "metadata": {},
     "output_type": "execute_result"
    }
   ],
   "source": [
    "dfgroup.groupby('name')['mass_to_earth'].sum() # считаем суммарным итогом значения по массе, которые встречаются в тех строках, \n",
    "                                                  # где name = Earth"
   ]
  },
  {
   "cell_type": "code",
   "execution_count": 118,
   "id": "proprietary-cooperative",
   "metadata": {},
   "outputs": [
    {
     "name": "stdout",
     "output_type": "stream",
     "text": [
      "<class 'pandas.core.groupby.generic.DataFrameGroupBy'>\n"
     ]
    }
   ],
   "source": [
    "print(type(dfgroup.groupby('name'))) # новый класс - DataFrameGroupBy"
   ]
  },
  {
   "cell_type": "markdown",
   "id": "secure-optimization",
   "metadata": {},
   "source": [
    "метод value_counts работает так же, как groupby, но на выходе - знакомый Series"
   ]
  },
  {
   "cell_type": "code",
   "execution_count": 123,
   "id": "indoor-metadata",
   "metadata": {},
   "outputs": [
    {
     "name": "stdout",
     "output_type": "stream",
     "text": [
      "<class 'pandas.core.series.Series'>\n",
      "name   mass_to_earth  three\n",
      "Earth  1.000          a        1\n",
      "       4.000          c        1\n",
      "Mars   0.107          b        1\n",
      "Moon   0.606          a        1\n",
      "dtype: int64\n"
     ]
    }
   ],
   "source": [
    "print(type(dfgroup.value_counts()))\n",
    "print(dfgroup.value_counts())"
   ]
  },
  {
   "cell_type": "code",
   "execution_count": 121,
   "id": "developing-metadata",
   "metadata": {},
   "outputs": [
    {
     "data": {
      "text/plain": [
       "Earth    2\n",
       "Moon     1\n",
       "Mars     1\n",
       "Name: name, dtype: int64"
      ]
     },
     "execution_count": 121,
     "metadata": {},
     "output_type": "execute_result"
    }
   ],
   "source": [
    "dfgroup['name'].value_counts()"
   ]
  },
  {
   "cell_type": "code",
   "execution_count": 154,
   "id": "colored-controversy",
   "metadata": {},
   "outputs": [
    {
     "data": {
      "text/html": [
       "<div>\n",
       "<style scoped>\n",
       "    .dataframe tbody tr th:only-of-type {\n",
       "        vertical-align: middle;\n",
       "    }\n",
       "\n",
       "    .dataframe tbody tr th {\n",
       "        vertical-align: top;\n",
       "    }\n",
       "\n",
       "    .dataframe thead th {\n",
       "        text-align: right;\n",
       "    }\n",
       "</style>\n",
       "<table border=\"1\" class=\"dataframe\">\n",
       "  <thead>\n",
       "    <tr style=\"text-align: right;\">\n",
       "      <th></th>\n",
       "      <th>name</th>\n",
       "      <th>ones</th>\n",
       "      <th>tens</th>\n",
       "      <th>hundgeds</th>\n",
       "      <th>thousends</th>\n",
       "    </tr>\n",
       "  </thead>\n",
       "  <tbody>\n",
       "    <tr>\n",
       "      <th>0</th>\n",
       "      <td>Earth</td>\n",
       "      <td>1</td>\n",
       "      <td>10</td>\n",
       "      <td>100</td>\n",
       "      <td>1000</td>\n",
       "    </tr>\n",
       "    <tr>\n",
       "      <th>1</th>\n",
       "      <td>Mars</td>\n",
       "      <td>2</td>\n",
       "      <td>20</td>\n",
       "      <td>200</td>\n",
       "      <td>2000</td>\n",
       "    </tr>\n",
       "    <tr>\n",
       "      <th>2</th>\n",
       "      <td>Moon</td>\n",
       "      <td>3</td>\n",
       "      <td>30</td>\n",
       "      <td>300</td>\n",
       "      <td>3000</td>\n",
       "    </tr>\n",
       "    <tr>\n",
       "      <th>3</th>\n",
       "      <td>Venus</td>\n",
       "      <td>4</td>\n",
       "      <td>40</td>\n",
       "      <td>400</td>\n",
       "      <td>4000</td>\n",
       "    </tr>\n",
       "    <tr>\n",
       "      <th>4</th>\n",
       "      <td>Earth</td>\n",
       "      <td>5</td>\n",
       "      <td>50</td>\n",
       "      <td>500</td>\n",
       "      <td>5000</td>\n",
       "    </tr>\n",
       "  </tbody>\n",
       "</table>\n",
       "</div>"
      ],
      "text/plain": [
       "    name  ones  tens  hundgeds  thousends\n",
       "0  Earth     1    10       100       1000\n",
       "1   Mars     2    20       200       2000\n",
       "2   Moon     3    30       300       3000\n",
       "3  Venus     4    40       400       4000\n",
       "4  Earth     5    50       500       5000"
      ]
     },
     "execution_count": 154,
     "metadata": {},
     "output_type": "execute_result"
    }
   ],
   "source": [
    "#d = ['Earth', 'Mars', 'Moon', 'Venus', 'Jupyter'],\n",
    " #    [1, 2, 3, 4, 5],\n",
    " #    [10, 20, 30, 40, 50],\n",
    "  #   [100, 200, 300, 400, 500],\n",
    "  #   [1000, 2000, 3000, 4000, 5000]\n",
    "#    }\n",
    "d = [\n",
    "    ['Earth', 1, 10, 100, 1000],\n",
    "    ['Mars', 2, 20, 200, 2000],\n",
    "    ['Moon', 3, 30, 300, 3000],\n",
    "    ['Venus', 4, 40, 400, 4000],\n",
    "    ['Earth', 5, 50, 500, 5000]\n",
    "    ]\n",
    "df_n = pd.DataFrame(d, columns = ['name', 'ones', 'tens', 'hundgeds', 'thousends'])\n",
    "df_n"
   ]
  },
  {
   "cell_type": "code",
   "execution_count": 155,
   "id": "coordinate-motion",
   "metadata": {},
   "outputs": [
    {
     "name": "stdout",
     "output_type": "stream",
     "text": [
      "<pandas.core.groupby.generic.DataFrameGroupBy object at 0x0C4C2B20>\n"
     ]
    }
   ],
   "source": [
    "df_n_g = df_n.groupby('name')\n",
    "print(df_n_g)"
   ]
  },
  {
   "cell_type": "code",
   "execution_count": 156,
   "id": "breeding-hungarian",
   "metadata": {},
   "outputs": [
    {
     "name": "stdout",
     "output_type": "stream",
     "text": [
      "<class 'pandas.core.frame.DataFrame'>\n",
      "      tens           \n",
      "      mean median sum\n",
      "name                 \n",
      "Earth   30     30  60\n",
      "Mars    20     20  20\n",
      "Moon    30     30  30\n",
      "Venus   40     40  40\n"
     ]
    }
   ],
   "source": [
    "ggg = df_n_g.agg({'tens':['mean', 'median', 'sum']})\n",
    "print(type(ggg))\n",
    "print(ggg)"
   ]
  },
  {
   "cell_type": "code",
   "execution_count": 161,
   "id": "boolean-installation",
   "metadata": {},
   "outputs": [
    {
     "name": "stdout",
     "output_type": "stream",
     "text": [
      "C:\\Users\\user001\\YandexDisk\\jupyter_notebook\n",
      "nt\n",
      "['.ipynb_checkpoints', 'pandas_park.ipynb', 'Untitled.ipynb']\n",
      "['$360Section', '$Recycle.Bin', '1AD3049D1CB6', '360SANDBOX', '4c0fec9bc22ec58ee3a9c9d19e', 'bp7', 'Config.Msi', 'Documents and Settings', 'DRIVERS', 'hiberfil.sys', 'Intel', 'kd3test', 'pagefile.sys', 'PerfLogs', 'Program Files', 'Program Files (x86)', 'ProgramData', 'Python', 'Recovery', 'setup.log', 'SWTOOLS', 'System Volume Information', 'Users', 'Windows', 'РАБОТА']\n"
     ]
    }
   ],
   "source": [
    "import os\n",
    "print(os.getcwd())\n",
    "print(os.name)\n",
    "print(os.listdir())\n",
    "print(os.listdir(r'C:\\\\'))"
   ]
  },
  {
   "cell_type": "code",
   "execution_count": 166,
   "id": "catholic-diana",
   "metadata": {},
   "outputs": [
    {
     "ename": "ModuleNotFoundError",
     "evalue": "No module named 'pymystem3'",
     "output_type": "error",
     "traceback": [
      "\u001b[1;31m---------------------------------------------------------------------------\u001b[0m",
      "\u001b[1;31mModuleNotFoundError\u001b[0m                       Traceback (most recent call last)",
      "\u001b[1;32m<ipython-input-166-a6d10585ad0f>\u001b[0m in \u001b[0;36m<module>\u001b[1;34m\u001b[0m\n\u001b[1;32m----> 1\u001b[1;33m \u001b[1;32mfrom\u001b[0m \u001b[0mpymystem3\u001b[0m \u001b[1;32mimport\u001b[0m \u001b[0mMystem\u001b[0m\u001b[1;33m\u001b[0m\u001b[1;33m\u001b[0m\u001b[0m\n\u001b[0m\u001b[0;32m      2\u001b[0m \u001b[1;32mfrom\u001b[0m \u001b[0mcollections\u001b[0m \u001b[1;32mimport\u001b[0m \u001b[0mCounter\u001b[0m\u001b[1;33m\u001b[0m\u001b[1;33m\u001b[0m\u001b[0m\n\u001b[0;32m      3\u001b[0m \u001b[0mm\u001b[0m \u001b[1;33m=\u001b[0m \u001b[0mMystem\u001b[0m\u001b[1;33m(\u001b[0m\u001b[1;33m)\u001b[0m\u001b[1;33m\u001b[0m\u001b[1;33m\u001b[0m\u001b[0m\n",
      "\u001b[1;31mModuleNotFoundError\u001b[0m: No module named 'pymystem3'"
     ]
    }
   ],
   "source": [
    "from pymystem3 import Mystem\n",
    "from collections import Counter\n",
    "m = Mystem()\n"
   ]
  }
 ],
 "metadata": {
  "kernelspec": {
   "display_name": "Python 3",
   "language": "python",
   "name": "python3"
  },
  "language_info": {
   "codemirror_mode": {
    "name": "ipython",
    "version": 3
   },
   "file_extension": ".py",
   "mimetype": "text/x-python",
   "name": "python",
   "nbconvert_exporter": "python",
   "pygments_lexer": "ipython3",
   "version": "3.8.2"
  }
 },
 "nbformat": 4,
 "nbformat_minor": 5
}
